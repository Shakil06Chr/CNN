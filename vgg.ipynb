{
 "cells": [
  {
   "cell_type": "code",
   "execution_count": 25,
   "metadata": {},
   "outputs": [],
   "source": [
    "import pandas as pd\n",
    "import numpy as np \n",
    "from tensorflow.keras.datasets import mnist\n",
    "from tensorflow.keras import models,layers,optimizers,losses,metrics\n",
    "from tensorflow.keras.preprocessing import image\n",
    "from sklearn.model_selection import train_test_split\n",
    "from sklearn.metrics import accuracy_score,classification_report\n"
   ]
  },
  {
   "cell_type": "code",
   "execution_count": 26,
   "metadata": {},
   "outputs": [],
   "source": [
    "(X_train,y_train),(x_test,y_test)=mnist.load_data()"
   ]
  },
  {
   "cell_type": "code",
   "execution_count": 27,
   "metadata": {},
   "outputs": [
    {
     "data": {
      "text/plain": [
       "array([[[0, 0, 0, ..., 0, 0, 0],\n",
       "        [0, 0, 0, ..., 0, 0, 0],\n",
       "        [0, 0, 0, ..., 0, 0, 0],\n",
       "        ...,\n",
       "        [0, 0, 0, ..., 0, 0, 0],\n",
       "        [0, 0, 0, ..., 0, 0, 0],\n",
       "        [0, 0, 0, ..., 0, 0, 0]],\n",
       "\n",
       "       [[0, 0, 0, ..., 0, 0, 0],\n",
       "        [0, 0, 0, ..., 0, 0, 0],\n",
       "        [0, 0, 0, ..., 0, 0, 0],\n",
       "        ...,\n",
       "        [0, 0, 0, ..., 0, 0, 0],\n",
       "        [0, 0, 0, ..., 0, 0, 0],\n",
       "        [0, 0, 0, ..., 0, 0, 0]],\n",
       "\n",
       "       [[0, 0, 0, ..., 0, 0, 0],\n",
       "        [0, 0, 0, ..., 0, 0, 0],\n",
       "        [0, 0, 0, ..., 0, 0, 0],\n",
       "        ...,\n",
       "        [0, 0, 0, ..., 0, 0, 0],\n",
       "        [0, 0, 0, ..., 0, 0, 0],\n",
       "        [0, 0, 0, ..., 0, 0, 0]],\n",
       "\n",
       "       ...,\n",
       "\n",
       "       [[0, 0, 0, ..., 0, 0, 0],\n",
       "        [0, 0, 0, ..., 0, 0, 0],\n",
       "        [0, 0, 0, ..., 0, 0, 0],\n",
       "        ...,\n",
       "        [0, 0, 0, ..., 0, 0, 0],\n",
       "        [0, 0, 0, ..., 0, 0, 0],\n",
       "        [0, 0, 0, ..., 0, 0, 0]],\n",
       "\n",
       "       [[0, 0, 0, ..., 0, 0, 0],\n",
       "        [0, 0, 0, ..., 0, 0, 0],\n",
       "        [0, 0, 0, ..., 0, 0, 0],\n",
       "        ...,\n",
       "        [0, 0, 0, ..., 0, 0, 0],\n",
       "        [0, 0, 0, ..., 0, 0, 0],\n",
       "        [0, 0, 0, ..., 0, 0, 0]],\n",
       "\n",
       "       [[0, 0, 0, ..., 0, 0, 0],\n",
       "        [0, 0, 0, ..., 0, 0, 0],\n",
       "        [0, 0, 0, ..., 0, 0, 0],\n",
       "        ...,\n",
       "        [0, 0, 0, ..., 0, 0, 0],\n",
       "        [0, 0, 0, ..., 0, 0, 0],\n",
       "        [0, 0, 0, ..., 0, 0, 0]]], dtype=uint8)"
      ]
     },
     "execution_count": 27,
     "metadata": {},
     "output_type": "execute_result"
    }
   ],
   "source": [
    "X_train"
   ]
  },
  {
   "cell_type": "code",
   "execution_count": 28,
   "metadata": {},
   "outputs": [
    {
     "data": {
      "text/plain": [
       "60000"
      ]
     },
     "execution_count": 28,
     "metadata": {},
     "output_type": "execute_result"
    }
   ],
   "source": [
    "x=mnist.load_data()\n",
    "len(x[0][0])"
   ]
  },
  {
   "cell_type": "code",
   "execution_count": null,
   "metadata": {},
   "outputs": [],
   "source": [
    "X_train=X_train.reshape((60000,28,28,1))/255.0\n",
    "x_test=x_test.reshape((10000,28,28,1))/255.0\n",
    "test_images=x_test\n",
    "train_images=X_train"
   ]
  },
  {
   "cell_type": "code",
   "execution_count": null,
   "metadata": {},
   "outputs": [],
   "source": []
  },
  {
   "cell_type": "markdown",
   "metadata": {},
   "source": [
    "## feature extraction using cnn"
   ]
  },
  {
   "cell_type": "code",
   "execution_count": 38,
   "metadata": {},
   "outputs": [],
   "source": [
    "feature_extractor = models.Sequential([\n",
    "    # Block 1\n",
    "    layers.Conv2D(32, (3, 3), activation='relu', padding='same', input_shape=(28, 28, 1)),  # Reduced filters to 32\n",
    "    layers.Conv2D(32, (3, 3), activation='relu', padding='same'),  # Reduced filters to 32\n",
    "    layers.MaxPooling2D((2, 2)),  # Output: 14x14\n",
    "    \n",
    "    # Block 2\n",
    "    layers.Conv2D(64, (3, 3), activation='relu', padding='same'),  # Reduced filters to 64\n",
    "    layers.Conv2D(64, (3, 3), activation='relu', padding='same'),  # Reduced filters to 64\n",
    "    layers.MaxPooling2D((2, 2)),  # Output: 7x7\n",
    "    \n",
    "    # Block 3\n",
    "    layers.Conv2D(128, (3, 3), activation='relu', padding='same'),  # Reduced filters to 128\n",
    "    layers.Conv2D(128, (3, 3), activation='relu', padding='same'),  # Reduced filters to 128\n",
    "    layers.Conv2D(128, (3, 3), activation='relu', padding='same'),  # Reduced filters to 128\n",
    "    layers.MaxPooling2D((2, 2), padding='same'),  # Output: 4x4\n",
    "    \n",
    "    # Block 4\n",
    "    layers.Conv2D(256, (3, 3), activation='relu', padding='same'),  # Reduced filters to 256\n",
    "    layers.Conv2D(256, (3, 3), activation='relu', padding='same'),  # Reduced filters to 256\n",
    "    layers.Conv2D(256, (3, 3), activation='relu', padding='same'),  # Reduced filters to 256\n",
    "    layers.MaxPooling2D((2, 2), padding='same'),  # Output: 2x2\n",
    "    \n",
    "    # Block 5 (adjusted)\n",
    "    layers.Conv2D(256, (3, 3), activation='relu', padding='same'),  # Reduced filters to 256\n",
    "    layers.Conv2D(256, (3, 3), activation='relu', padding='same'),  # Reduced filters to 256\n",
    "    layers.Conv2D(256, (3, 3), activation='relu', padding='same'),  # Reduced filters to 256\n",
    "    \n",
    "    # Flatten the output to make it 2D\n",
    "    layers.Flatten()  # Flatten the output to a 2D array\n",
    "])\n",
    "\n",
    "# Extract features\n",
    "\n"
   ]
  },
  {
   "cell_type": "code",
   "execution_count": 39,
   "metadata": {},
   "outputs": [
    {
     "name": "stdout",
     "output_type": "stream",
     "text": [
      "\u001b[1m1875/1875\u001b[0m \u001b[32m━━━━━━━━━━━━━━━━━━━━\u001b[0m\u001b[37m\u001b[0m \u001b[1m119s\u001b[0m 64ms/step\n",
      "\u001b[1m313/313\u001b[0m \u001b[32m━━━━━━━━━━━━━━━━━━━━\u001b[0m\u001b[37m\u001b[0m \u001b[1m19s\u001b[0m 62ms/step\n"
     ]
    }
   ],
   "source": [
    "feature_train=feature_extractor.predict(X_train)\n",
    "feature_test=feature_extractor.predict(x_test)"
   ]
  },
  {
   "cell_type": "code",
   "execution_count": 37,
   "metadata": {},
   "outputs": [
    {
     "name": "stdout",
     "output_type": "stream",
     "text": [
      "\u001b[1m1875/1875\u001b[0m \u001b[32m━━━━━━━━━━━━━━━━━━━━\u001b[0m\u001b[37m\u001b[0m \u001b[1m137s\u001b[0m 73ms/step\n",
      "\u001b[1m313/313\u001b[0m \u001b[32m━━━━━━━━━━━━━━━━━━━━\u001b[0m\u001b[37m\u001b[0m \u001b[1m18s\u001b[0m 59ms/step\n"
     ]
    }
   ],
   "source": [
    "feature_extractor = models.Sequential([\n",
    "    # Block 1\n",
    "    layers.Conv2D(32, (3, 3), activation='relu', padding='same', input_shape=(28, 28, 1)),  # Reduced filters to 32\n",
    "    layers.Conv2D(32, (3, 3), activation='relu', padding='same'),  # Reduced filters to 32\n",
    "    layers.MaxPooling2D((2, 2)),  # Output: 14x14\n",
    "    \n",
    "    # Block 2\n",
    "    layers.Conv2D(64, (3, 3), activation='relu', padding='same'),  # Reduced filters to 64\n",
    "    layers.Conv2D(64, (3, 3), activation='relu', padding='same'),  # Reduced filters to 64\n",
    "    layers.MaxPooling2D((2, 2)),  # Output: 7x7\n",
    "    \n",
    "    # Block 3\n",
    "    layers.Conv2D(128, (3, 3), activation='relu', padding='same'),  # Reduced filters to 128\n",
    "    layers.Conv2D(128, (3, 3), activation='relu', padding='same'),  # Reduced filters to 128\n",
    "    layers.Conv2D(128, (3, 3), activation='relu', padding='same'),  # Reduced filters to 128\n",
    "    layers.MaxPooling2D((2, 2), padding='same'),  # Output: 4x4\n",
    "    \n",
    "    # Block 4\n",
    "    layers.Conv2D(256, (3, 3), activation='relu', padding='same'),  # Reduced filters to 256\n",
    "    layers.Conv2D(256, (3, 3), activation='relu', padding='same'),  # Reduced filters to 256\n",
    "    layers.Conv2D(256, (3, 3), activation='relu', padding='same'),  # Reduced filters to 256\n",
    "    layers.MaxPooling2D((2, 2), padding='same'),  # Output: 2x2\n",
    "    \n",
    "    # Block 5 (adjusted)\n",
    "    layers.Conv2D(256, (3, 3), activation='relu', padding='same'),  # Reduced filters to 256\n",
    "    layers.Conv2D(256, (3, 3), activation='relu', padding='same'),  # Reduced filters to 256\n",
    "    layers.Conv2D(256, (3, 3), activation='relu', padding='same'),  # Reduced filters to 256\n",
    "    \n",
    "    # Flatten the output to make it 2D\n",
    "    layers.Flatten()  # Flatten the output to a 2D array\n",
    "])\n",
    "\n",
    "# Extract features\n",
    "train_features = feature_extractor.predict(train_images)\n",
    "test_features = feature_extractor.predict(test_images)\n"
   ]
  },
  {
   "cell_type": "code",
   "execution_count": 50,
   "metadata": {},
   "outputs": [],
   "source": [
    "#random forest model train after feature extraction\n",
    "from sklearn.ensemble import RandomForestClassifier\n",
    "rdm=RandomForestClassifier(n_estimators=9,random_state=43)"
   ]
  },
  {
   "cell_type": "code",
   "execution_count": 54,
   "metadata": {},
   "outputs": [
    {
     "name": "stdout",
     "output_type": "stream",
     "text": [
      "\u001b[1m1875/1875\u001b[0m \u001b[32m━━━━━━━━━━━━━━━━━━━━\u001b[0m\u001b[37m\u001b[0m \u001b[1m195s\u001b[0m 104ms/step\n",
      "\u001b[1m313/313\u001b[0m \u001b[32m━━━━━━━━━━━━━━━━━━━━\u001b[0m\u001b[37m\u001b[0m \u001b[1m28s\u001b[0m 89ms/step\n"
     ]
    }
   ],
   "source": [
    "train_features = feature_extractor.predict(train_images)\n",
    "test_features = feature_extractor.predict(test_images)\n",
    "\n",
    "# Train Random Forest\n",
    "rf_classifier = RandomForestClassifier(n_estimators=9, random_state=42)\n",
    "rf_classifier.fit(train_features, y_train)\n",
    "\n",
    "# Predict and evaluate\n",
    "rf_predictions = rf_classifier.predict(test_features)\n"
   ]
  },
  {
   "cell_type": "code",
   "execution_count": 57,
   "metadata": {},
   "outputs": [],
   "source": [
    "result=accuracy_score(y_test, rf_predictions)"
   ]
  },
  {
   "cell_type": "code",
   "execution_count": 58,
   "metadata": {},
   "outputs": [
    {
     "data": {
      "text/plain": [
       "0.1135"
      ]
     },
     "execution_count": 58,
     "metadata": {},
     "output_type": "execute_result"
    }
   ],
   "source": [
    "result"
   ]
  }
 ],
 "metadata": {
  "kernelspec": {
   "display_name": "Python 3",
   "language": "python",
   "name": "python3"
  },
  "language_info": {
   "codemirror_mode": {
    "name": "ipython",
    "version": 3
   },
   "file_extension": ".py",
   "mimetype": "text/x-python",
   "name": "python",
   "nbconvert_exporter": "python",
   "pygments_lexer": "ipython3",
   "version": "3.10.10"
  }
 },
 "nbformat": 4,
 "nbformat_minor": 2
}
